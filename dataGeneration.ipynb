{
 "cells": [
  {
   "cell_type": "code",
   "execution_count": 12,
   "metadata": {},
   "outputs": [],
   "source": [
    "import numpy as np\n",
    "import pandas as pd"
   ]
  },
  {
   "cell_type": "code",
   "execution_count": 13,
   "metadata": {},
   "outputs": [],
   "source": [
    "def id(number):\n",
    "    if len(str(number))==1:\n",
    "        return '00'+str(number)\n",
    "    else:\n",
    "        return '0'+str(number)"
   ]
  },
  {
   "cell_type": "code",
   "execution_count": 14,
   "metadata": {},
   "outputs": [],
   "source": [
    "foods = []\n",
    "dexcoms = []\n",
    "to_return = {}\n",
    "for i in range(1, 17):\n",
    "    current_id = id(i)\n",
    "    foods.append(pd.read_csv(f'data/{current_id}/Food_Log_{current_id}.csv'))\n",
    "    dexcoms.append(pd.read_csv(f'data/{current_id}/Dexcom_{current_id}.csv'))"
   ]
  },
  {
   "cell_type": "code",
   "execution_count": 15,
   "metadata": {},
   "outputs": [],
   "source": [
    "for i in range(16):\n",
    "    dexcom = dexcoms[i]\n",
    "    food = foods[i]\n",
    "    dexcom['time'] = pd.to_datetime(dexcom['Timestamp (YYYY-MM-DDThh:mm:ss)'])\n",
    "    dexcom = dexcom[dexcom['time'].notna()]\n",
    "    food['time'] = pd.to_datetime(food['time_begin'])\n",
    "    food = food[food['time'].notna()]\n",
    "\n",
    "    #food = food.groupby('time', as_index=False)[['calorie', 'total_carb', 'dietary_fiber', 'sugar', 'protein', 'total_fat']].sum()\n",
    "    food = food.groupby('time', as_index=False).agg({\n",
    "        'calorie': 'sum',\n",
    "        'total_carb': 'sum',\n",
    "        'dietary_fiber': 'sum',\n",
    "        'sugar': 'sum',\n",
    "        'protein': 'sum',\n",
    "        'total_fat': 'sum',\n",
    "        'logged_food': list,     # example column to aggregate as list\n",
    "    })\n",
    "    dexcom = dexcom.sort_values('time')\n",
    "    food = food.sort_values('time')\n",
    "\n",
    "    # Create a results dataframe to store our findings\n",
    "    results = []\n",
    "    for _, food_elem in food.iterrows():\n",
    "        # Find the closest timestamp in df that comes before food_time\n",
    "        food_time = food_elem['time']\n",
    "        mask = dexcom['time'] <= food_time\n",
    "        if not mask.any():\n",
    "            continue  # Skip if no earlier timestamp exists\n",
    "        \n",
    "        closest_time = dexcom.loc[mask, 'time'].max()\n",
    "        basis_glucose = dexcom.loc[dexcom['time'] == closest_time, 'Glucose Value (mg/dL)'].iloc[0]\n",
    "    \n",
    "        # Find all records within one hour after the closest_time\n",
    "        one_hour_later = closest_time + pd.Timedelta(hours=1)\n",
    "        time_window = dexcom[(dexcom['time'] >= closest_time) & (dexcom['time'] <= one_hour_later)]\n",
    "    \n",
    "        # Calculate sugar changes relative to the basis\n",
    "        for _, row in time_window.iterrows():\n",
    "            results.append({\n",
    "                'food_time': food_time,\n",
    "                'basis_time': closest_time,\n",
    "                'current_time': row['time'],\n",
    "                'basis_glucose': basis_glucose,\n",
    "                'current_glucose': row['Glucose Value (mg/dL)'],\n",
    "                'sugar_change': row['Glucose Value (mg/dL)'] - basis_glucose,\n",
    "                'minutes_from_basis': (row['time'] - closest_time).total_seconds() / 60,\n",
    "                'calorie': food_elem['calorie'],\n",
    "                'total_carb': food_elem['total_carb'],\n",
    "                #'dietary_fiber': food_elem['dietary_fiber'],\n",
    "                'sugar': food_elem['sugar'],\n",
    "                'protein': food_elem['protein'],\n",
    "                #'total_fat': food_elem['total_fat'],\n",
    "                'logged_food': food_elem['logged_food']\n",
    "            })\n",
    "    results_df = pd.DataFrame(results)\n",
    "    to_return[id(i+1)] = results_df"
   ]
  },
  {
   "cell_type": "code",
   "execution_count": 16,
   "metadata": {},
   "outputs": [],
   "source": [
    "for i in range(1, 17):\n",
    "    to_return[id(i)].to_csv(f'data/{id(i)}/summary{id(i)}.csv')"
   ]
  }
 ],
 "metadata": {
  "kernelspec": {
   "display_name": "Python 3",
   "language": "python",
   "name": "python3"
  },
  "language_info": {
   "codemirror_mode": {
    "name": "ipython",
    "version": 3
   },
   "file_extension": ".py",
   "mimetype": "text/x-python",
   "name": "python",
   "nbconvert_exporter": "python",
   "pygments_lexer": "ipython3",
   "version": "3.11.4"
  }
 },
 "nbformat": 4,
 "nbformat_minor": 2
}
