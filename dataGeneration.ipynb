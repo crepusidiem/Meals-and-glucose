{
 "cells": [
  {
   "cell_type": "code",
   "execution_count": 31,
   "metadata": {},
   "outputs": [],
   "source": [
    "import numpy as np\n",
    "import pandas as pd"
   ]
  },
  {
   "cell_type": "code",
   "execution_count": 32,
   "metadata": {},
   "outputs": [],
   "source": [
    "def id(number):\n",
    "    if len(str(number))==1:\n",
    "        return '00'+str(number)\n",
    "    else:\n",
    "        return '0'+str(number)"
   ]
  },
  {
   "cell_type": "code",
   "execution_count": 33,
   "metadata": {},
   "outputs": [],
   "source": [
    "foods = []\n",
    "dexcoms = []\n",
    "to_return = {}\n",
    "for i in range(1, 17):\n",
    "    current_id = id(i)\n",
    "    foods.append(pd.read_csv(f'data/{current_id}/Food_Log_{current_id}.csv'))\n",
    "    dexcoms.append(pd.read_csv(f'data/{current_id}/Dexcom_{current_id}.csv'))"
   ]
  },
  {
   "cell_type": "code",
   "execution_count": 34,
   "metadata": {},
   "outputs": [],
   "source": [
    "for i in range(16):\n",
    "    dexcom = dexcoms[i]\n",
    "    food = foods[i]\n",
    "    dexcom['time'] = pd.to_datetime(dexcom['Timestamp (YYYY-MM-DDThh:mm:ss)'])\n",
    "    dexcom = dexcom[dexcom['time'].notna()]\n",
    "    food['time'] = pd.to_datetime(food['time_begin'])\n",
    "    food = food[food['time'].notna()]\n",
    "\n",
    "    #food = food.groupby('time', as_index=False)[['calorie', 'total_carb', 'dietary_fiber', 'sugar', 'protein', 'total_fat']].sum()\n",
    "    food = food.groupby('time', as_index=False).agg({\n",
    "        'calorie': 'sum',\n",
    "        'total_carb': 'sum',\n",
    "        'dietary_fiber': 'sum',\n",
    "        'sugar': 'sum',\n",
    "        'protein': 'sum',\n",
    "        'total_fat': 'sum',\n",
    "        'logged_food': list,     # example column to aggregate as list\n",
    "    })\n",
    "    dexcom = dexcom.sort_values('time')\n",
    "    food = food.sort_values('time')\n",
    "\n",
    "    # Create a results dataframe to store our findings\n",
    "    results = []\n",
    "    for _, food_elem in food.iterrows():\n",
    "        # Find the closest timestamp in df that comes before food_time\n",
    "        food_time = food_elem['time']\n",
    "        mask = dexcom['time'] <= food_time\n",
    "        if not mask.any():\n",
    "            continue  # Skip if no earlier timestamp exists\n",
    "        closest_time = dexcom.loc[mask, 'time'].max()\n",
    "        basis_glucose = dexcom.loc[dexcom['time'] == closest_time, 'Glucose Value (mg/dL)'].iloc[0]\n",
    "    \n",
    "        # Find all records within one hour after the closest_time\n",
    "        one_hour_later = closest_time + pd.Timedelta(hours=1)\n",
    "        time_window = dexcom[(dexcom['time'] >= closest_time) & (dexcom['time'] <= one_hour_later)]\n",
    "    \n",
    "        # Calculate sugar changes relative to the basis\n",
    "        for _, row in time_window.iterrows():\n",
    "            results.append({\n",
    "                'participant_id': id(i+1),\n",
    "                'food_time': food_time,\n",
    "                'basis_time': closest_time,\n",
    "                'current_time': row['time'],\n",
    "                'basis_glucose': basis_glucose,\n",
    "                'current_glucose': row['Glucose Value (mg/dL)'],\n",
    "                'sugar_change': row['Glucose Value (mg/dL)'] - basis_glucose,\n",
    "                'minutes_from_basis': round(int((row['time'] - closest_time).total_seconds() / 60)/5)*5,\n",
    "                'calorie': food_elem['calorie'],\n",
    "                'total_carb': food_elem['total_carb'],\n",
    "                #'dietary_fiber': food_elem['dietary_fiber'],\n",
    "                'sugar': food_elem['sugar'],\n",
    "                'protein': food_elem['protein'],\n",
    "                #'total_fat': food_elem['total_fat'],\n",
    "                'logged_food': food_elem['logged_food']\n",
    "            })\n",
    "    results_df = pd.DataFrame(results)\n",
    "    to_return[id(i+1)] = results_df"
   ]
  },
  {
   "cell_type": "code",
   "execution_count": 35,
   "metadata": {},
   "outputs": [],
   "source": [
    "for i in range(1, 17):\n",
    "    if i==3:\n",
    "        continue\n",
    "    to_return[id(i)].to_csv(f'data/{id(i)}/summary{id(i)}.csv')"
   ]
  },
  {
   "cell_type": "code",
   "execution_count": 36,
   "metadata": {},
   "outputs": [],
   "source": [
    "male_high = []\n",
    "for i in [9, 11]:\n",
    "    male_high.append(pd.read_csv(f'data/{id(i)}/summary{id(i)}.csv'))\n",
    "male_high_df = pd.concat(male_high).drop('Unnamed: 0', axis=1)\n",
    "male_high_df = male_high_df[(pd.to_datetime(male_high_df['food_time'])-pd.to_datetime(male_high_df['basis_time']))< pd.Timedelta(minutes=5)]\n",
    "male_high_df = pd.pivot_table(male_high_df, values=['sugar_change'],\n",
    "                              columns='minutes_from_basis',\n",
    "                              index=['participant_id', 'basis_time', 'calorie', 'total_carb', 'sugar', 'protein'])\n",
    "male_high_df.columns = [f'{col[1]}' for col in male_high_df.columns]\n",
    "male_high_df = male_high_df.reset_index()\n",
    "male_high_df.to_csv(f'data/male_high.csv')"
   ]
  },
  {
   "cell_type": "code",
   "execution_count": 37,
   "metadata": {},
   "outputs": [],
   "source": [
    "male_low = []\n",
    "for i in [2, 12, 14]:\n",
    "    male_low.append(pd.read_csv(f'data/{id(i)}/summary{id(i)}.csv'))\n",
    "male_low_df = pd.concat(male_low).drop('Unnamed: 0', axis=1)\n",
    "male_low_df = male_low_df[(pd.to_datetime(male_low_df['food_time'])-pd.to_datetime(male_low_df['basis_time']))< pd.Timedelta(minutes=5)]\n",
    "male_low_df = pd.pivot_table(male_low_df, values=['sugar_change'],\n",
    "                              columns='minutes_from_basis',\n",
    "                              index=['participant_id', 'basis_time', 'calorie', 'total_carb', 'sugar', 'protein'])\n",
    "male_low_df.columns = [f'{col[1]}' for col in male_low_df.columns]\n",
    "male_low_df = male_low_df.reset_index()\n",
    "male_low_df.to_csv(f'data/male_low.csv')"
   ]
  },
  {
   "cell_type": "code",
   "execution_count": 38,
   "metadata": {},
   "outputs": [],
   "source": [
    "female_high = []\n",
    "for i in [4, 5, 6, 10]:\n",
    "    female_high.append(pd.read_csv(f'data/{id(i)}/summary{id(i)}.csv'))\n",
    "female_high_df = pd.concat(female_high).drop('Unnamed: 0', axis=1)\n",
    "female_high_df = female_high_df[(pd.to_datetime(female_high_df['food_time'])-pd.to_datetime(female_high_df['basis_time']))< pd.Timedelta(minutes=5)]\n",
    "female_high_df = pd.pivot_table(female_high_df, values=['sugar_change'],\n",
    "                              columns='minutes_from_basis',\n",
    "                              index=['participant_id', 'basis_time', 'calorie', 'total_carb', 'sugar', 'protein'])\n",
    "female_high_df.columns = [f'{col[1]}' for col in female_high_df.columns]\n",
    "female_high_df = female_high_df.reset_index()\n",
    "female_high_df.to_csv(f'data/female_high.csv')"
   ]
  },
  {
   "cell_type": "code",
   "execution_count": 39,
   "metadata": {},
   "outputs": [],
   "source": [
    "female_low = []\n",
    "for i in [1, 8]:\n",
    "    female_low.append(pd.read_csv(f'data/{id(i)}/summary{id(i)}.csv'))\n",
    "female_low_df = pd.concat(female_low).drop('Unnamed: 0', axis=1)\n",
    "female_low_df = female_low_df[(pd.to_datetime(female_low_df['food_time'])-pd.to_datetime(female_low_df['basis_time']))< pd.Timedelta(minutes=5)]\n",
    "female_low_df = pd.pivot_table(female_low_df, values=['sugar_change'],\n",
    "                              columns='minutes_from_basis',\n",
    "                              index=['participant_id', 'basis_time', 'calorie', 'total_carb', 'sugar', 'protein'])\n",
    "female_low_df.columns = [f'{col[1]}' for col in female_low_df.columns]\n",
    "female_low_df = female_low_df.reset_index()\n",
    "female_low_df.to_csv(f'data/female_low.csv')"
   ]
  },
  {
   "cell_type": "code",
   "execution_count": 40,
   "metadata": {},
   "outputs": [],
   "source": [
    "def group_participants(participants_id, csv_name):\n",
    "    dfs = []\n",
    "    for i in participants_id:\n",
    "        dfs.append(pd.read_csv(f'data/{id(i)}/summary{id(i)}.csv'))\n",
    "    all_df = pd.concat(dfs).drop('Unnamed: 0', axis=1)\n",
    "    all_df = all_df[(pd.to_datetime(all_df['food_time'])-pd.to_datetime(all_df['basis_time']))< pd.Timedelta(minutes=5)]\n",
    "    all_df = pd.pivot_table(all_df, values=['sugar_change'],\n",
    "                                columns='minutes_from_basis',\n",
    "                                index=['participant_id', 'basis_time', 'calorie', 'total_carb', 'sugar', 'protein'])\n",
    "    all_df.columns = [f'{col[1]}' for col in all_df.columns]\n",
    "    all_df = all_df.reset_index()\n",
    "    #all_df.to_csv(csv_name)\n",
    "    return all_df"
   ]
  },
  {
   "cell_type": "code",
   "execution_count": 41,
   "metadata": {},
   "outputs": [
    {
     "data": {
      "text/plain": [
       "0        34.0\n",
       "1       852.0\n",
       "2        68.0\n",
       "3       280.0\n",
       "4      1613.0\n",
       "        ...  \n",
       "182       0.0\n",
       "183     831.0\n",
       "184       2.4\n",
       "185     300.0\n",
       "186     654.0\n",
       "Name: calorie, Length: 187, dtype: float64"
      ]
     },
     "execution_count": 41,
     "metadata": {},
     "output_type": "execute_result"
    }
   ],
   "source": [
    "df = group_participants([4, 5, 6, 10], 'data/female_high.csv')\n",
    "df['calorie']"
   ]
  },
  {
   "cell_type": "code",
   "execution_count": 66,
   "metadata": {},
   "outputs": [
    {
     "data": {
      "text/plain": [
       "np.float64(184.9)"
      ]
     },
     "execution_count": 66,
     "metadata": {},
     "output_type": "execute_result"
    }
   ],
   "source": [
    "df = pd.read_csv('data/female_low.csv')\n",
    "df['total_carb'].max()"
   ]
  },
  {
   "cell_type": "code",
   "execution_count": 63,
   "metadata": {},
   "outputs": [
    {
     "data": {
      "text/plain": [
       "np.float64(184.9)"
      ]
     },
     "execution_count": 63,
     "metadata": {},
     "output_type": "execute_result"
    }
   ],
   "source": [
    "df = pd.read_csv('data/female_low.csv')\n",
    "df['total_carb'].max()"
   ]
  },
  {
   "cell_type": "code",
   "execution_count": 64,
   "metadata": {},
   "outputs": [
    {
     "data": {
      "text/plain": [
       "np.float64(463.0)"
      ]
     },
     "execution_count": 64,
     "metadata": {},
     "output_type": "execute_result"
    }
   ],
   "source": [
    "df = pd.read_csv('data/male_high.csv')\n",
    "df['total_carb'].max()"
   ]
  },
  {
   "cell_type": "code",
   "execution_count": 65,
   "metadata": {},
   "outputs": [
    {
     "data": {
      "text/plain": [
       "np.float64(180.0)"
      ]
     },
     "execution_count": 65,
     "metadata": {},
     "output_type": "execute_result"
    }
   ],
   "source": [
    "df = pd.read_csv('data/male_low.csv')\n",
    "df['total_carb'].max()"
   ]
  },
  {
   "cell_type": "code",
   "execution_count": 68,
   "metadata": {},
   "outputs": [
    {
     "data": {
      "text/plain": [
       "Index(['Unnamed: 0', 'participant_id', 'basis_time', 'calorie', 'total_carb',\n",
       "       'sugar', 'protein', '0', '5', '10', '15', '20', '25', '30', '35', '40',\n",
       "       '45', '50', '55', '60'],\n",
       "      dtype='object')"
      ]
     },
     "execution_count": 68,
     "metadata": {},
     "output_type": "execute_result"
    }
   ],
   "source": [
    "df.columns"
   ]
  },
  {
   "cell_type": "code",
   "execution_count": 69,
   "metadata": {},
   "outputs": [
    {
     "name": "stdout",
     "output_type": "stream",
     "text": [
      "Contains negative values? True\n"
     ]
    }
   ],
   "source": [
    "has_negative = (df[['0','5','10','15','20','25','30','35','40','45','50','55','60']] < 0).any().any()\n",
    "\n",
    "print(\"Contains negative values?\" , has_negative)"
   ]
  },
  {
   "cell_type": "code",
   "execution_count": null,
   "metadata": {},
   "outputs": [],
   "source": []
  }
 ],
 "metadata": {
  "kernelspec": {
   "display_name": "Python 3",
   "language": "python",
   "name": "python3"
  },
  "language_info": {
   "codemirror_mode": {
    "name": "ipython",
    "version": 3
   },
   "file_extension": ".py",
   "mimetype": "text/x-python",
   "name": "python",
   "nbconvert_exporter": "python",
   "pygments_lexer": "ipython3",
   "version": "3.11.4"
  }
 },
 "nbformat": 4,
 "nbformat_minor": 2
}
